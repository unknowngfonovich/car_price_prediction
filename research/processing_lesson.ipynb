{
 "cells": [
  {
   "cell_type": "markdown",
   "metadata": {},
   "source": [
    "#### Import modules and packages and set some settings"
   ]
  },
  {
   "cell_type": "code",
   "execution_count": 1,
   "metadata": {},
   "outputs": [],
   "source": [
    "import pandas as pd\n",
    "import numpy as np\n",
    "import seaborn as sns\n",
    "from sklearn.pipeline import Pipeline\n",
    "from sklearn.preprocessing import MinMaxScaler, OneHotEncoder\n",
    "from sklearn.linear_model import Ridge\n",
    "from sklearn.model_selection import GridSearchCV, cross_validate, KFold\n",
    "from sklearn.compose import TransformedTargetRegressor, ColumnTransformer"
   ]
  },
  {
   "cell_type": "code",
   "execution_count": 2,
   "metadata": {},
   "outputs": [],
   "source": [
    "sns.set(rc={'figure.figsize':(15, 10)})"
   ]
  },
  {
   "cell_type": "markdown",
   "metadata": {},
   "source": [
    "#### Definition of some useful functions"
   ]
  },
  {
   "cell_type": "code",
   "execution_count": 3,
   "metadata": {},
   "outputs": [],
   "source": [
    "def get_iqr(data: pd.DataFrame, feature: str) -> dict:\n",
    "    \"\"\"\n",
    "    Function calculates Q1 (0.25-quantile), Q3 (0.75 quantile), IQR (Interquantile range)\n",
    "    and returns lower and upper borders of boxplot for selected column (feature) in dataframe\n",
    "\n",
    "    :param    data: data\n",
    "    :type     data: pd.DataFrame\n",
    "    :param feature: column to select\n",
    "    :type  feature: str\n",
    "\n",
    "    :raise ValueError: if feature is not in data.columns\n",
    "\n",
    "    :return: dict with Q1, Q3, IQR, lower border, upper border of boxplot\n",
    "    \"\"\"\n",
    "\n",
    "    result = {}\n",
    "\n",
    "    if feature in data.columns:\n",
    "\n",
    "        q1, q3 = np.quantile(data[feature], [0.25, 0.75])\n",
    "        iqr = q3 - q1\n",
    "        x_1, x_2 = q1 - 1.5 * iqr, q3 + 1.5 * iqr\n",
    "        if data[feature].min() > 0 and x_1 < 0:\n",
    "            x_1 = 0\n",
    "\n",
    "        result = {'Q1': q1, 'Q3': q3, 'IQR': iqr, 'Q1_IQR': x_1, 'Q2_IQR': x_2}\n",
    "    else:\n",
    "        raise ValueError(f\"Column {feature} not in df columns\")\n",
    "\n",
    "    return result\n",
    "\n",
    "def del_ouliers(data: pd.DataFrame, feature: str, up_bord: float, down_bord: float) -> pd.DataFrame:\n",
    "    \"\"\"\n",
    "\n",
    "    Function selects rows of dataframe with condition by column\n",
    "\n",
    "    :param      data: data\n",
    "    :type       data: pd.DataFrame\n",
    "    :param   feature: conditional column\n",
    "    :type    feature: str\n",
    "    :param   up_bord: upper border of feature\n",
    "    :type    up_bord: float\n",
    "    :param down_bord: lower border of feature\n",
    "    :type  down_bord: float\n",
    "\n",
    "    :raise ValueError: if data (pd.DataFrame) is empty \n",
    "    :raise ValueError: if dataframe doesnt contain column with name `feature`\n",
    "\n",
    "    :return: slice from dataframe\n",
    "\n",
    "    \"\"\"\n",
    "    if data.empty:\n",
    "        raise ValueError('Dataframe is empty. Check data.')\n",
    "    \n",
    "    if feature not in data.columns:\n",
    "        raise ValueError(f'Dataframe doesn\\'t contain column with name {feature}')\n",
    "\n",
    "    tmp = data.copy()\n",
    "    \n",
    "    return tmp[(tmp[feature] > down_bord) & (tmp[feature] < up_bord)]\n",
    "\n"
   ]
  },
  {
   "cell_type": "markdown",
   "metadata": {},
   "source": [
    "#### Import train and prediction datasets (data with target, data to predict)"
   ]
  },
  {
   "cell_type": "code",
   "execution_count": 4,
   "metadata": {},
   "outputs": [],
   "source": [
    "data = pd.concat([pd.read_csv('./data/linreg_train.csv', index_col=0), pd.read_csv('./data/linreg_y_train.csv', index_col=0)], axis=1)\n",
    "to_predict = pd.read_csv('./data/linreg_test.csv', index_col=0)"
   ]
  },
  {
   "cell_type": "markdown",
   "metadata": {},
   "source": [
    "#### Making EDA!"
   ]
  },
  {
   "cell_type": "markdown",
   "metadata": {},
   "source": [
    "Get info about columns: name, type of data, number of unique values"
   ]
  },
  {
   "cell_type": "code",
   "execution_count": 5,
   "metadata": {},
   "outputs": [
    {
     "name": "stdout",
     "output_type": "stream",
     "text": [
      "<class 'pandas.core.frame.DataFrame'>\n",
      "Int64Index: 64556 entries, 5912 to 1606\n",
      "Data columns (total 10 columns):\n",
      " #   Column        Non-Null Count  Dtype  \n",
      "---  ------        --------------  -----  \n",
      " 0   model         64556 non-null  object \n",
      " 1   year          64556 non-null  int64  \n",
      " 2   transmission  64556 non-null  object \n",
      " 3   mileage       64556 non-null  int64  \n",
      " 4   fuelType      64556 non-null  object \n",
      " 5   tax           64556 non-null  int64  \n",
      " 6   mpg           64556 non-null  float64\n",
      " 7   engineSize    64556 non-null  float64\n",
      " 8   car_maker     64556 non-null  object \n",
      " 9   price         64556 non-null  int64  \n",
      "dtypes: float64(2), int64(4), object(4)\n",
      "memory usage: 5.4+ MB\n"
     ]
    }
   ],
   "source": [
    "data.info()"
   ]
  },
  {
   "cell_type": "markdown",
   "metadata": {},
   "source": [
    "There aren't any missed values: 64556 non-null values for each column"
   ]
  },
  {
   "cell_type": "code",
   "execution_count": 6,
   "metadata": {},
   "outputs": [
    {
     "data": {
      "text/html": [
       "<div>\n",
       "<style scoped>\n",
       "    .dataframe tbody tr th:only-of-type {\n",
       "        vertical-align: middle;\n",
       "    }\n",
       "\n",
       "    .dataframe tbody tr th {\n",
       "        vertical-align: top;\n",
       "    }\n",
       "\n",
       "    .dataframe thead th {\n",
       "        text-align: right;\n",
       "    }\n",
       "</style>\n",
       "<table border=\"1\" class=\"dataframe\">\n",
       "  <thead>\n",
       "    <tr style=\"text-align: right;\">\n",
       "      <th></th>\n",
       "      <th>year</th>\n",
       "      <th>mileage</th>\n",
       "      <th>tax</th>\n",
       "      <th>mpg</th>\n",
       "      <th>engineSize</th>\n",
       "      <th>price</th>\n",
       "    </tr>\n",
       "  </thead>\n",
       "  <tbody>\n",
       "    <tr>\n",
       "      <th>count</th>\n",
       "      <td>64556.000000</td>\n",
       "      <td>64556.000000</td>\n",
       "      <td>64556.000000</td>\n",
       "      <td>64556.000000</td>\n",
       "      <td>64556.000000</td>\n",
       "      <td>64556.000000</td>\n",
       "    </tr>\n",
       "    <tr>\n",
       "      <th>mean</th>\n",
       "      <td>2017.114102</td>\n",
       "      <td>23031.711491</td>\n",
       "      <td>118.783072</td>\n",
       "      <td>55.846761</td>\n",
       "      <td>1.716775</td>\n",
       "      <td>18136.018062</td>\n",
       "    </tr>\n",
       "    <tr>\n",
       "      <th>std</th>\n",
       "      <td>2.132108</td>\n",
       "      <td>21499.436955</td>\n",
       "      <td>64.560914</td>\n",
       "      <td>17.039259</td>\n",
       "      <td>0.590944</td>\n",
       "      <td>10266.777814</td>\n",
       "    </tr>\n",
       "    <tr>\n",
       "      <th>min</th>\n",
       "      <td>1996.000000</td>\n",
       "      <td>1.000000</td>\n",
       "      <td>0.000000</td>\n",
       "      <td>1.100000</td>\n",
       "      <td>0.000000</td>\n",
       "      <td>650.000000</td>\n",
       "    </tr>\n",
       "    <tr>\n",
       "      <th>25%</th>\n",
       "      <td>2016.000000</td>\n",
       "      <td>6970.750000</td>\n",
       "      <td>125.000000</td>\n",
       "      <td>47.900000</td>\n",
       "      <td>1.200000</td>\n",
       "      <td>10991.000000</td>\n",
       "    </tr>\n",
       "    <tr>\n",
       "      <th>50%</th>\n",
       "      <td>2017.000000</td>\n",
       "      <td>17162.500000</td>\n",
       "      <td>145.000000</td>\n",
       "      <td>55.400000</td>\n",
       "      <td>1.600000</td>\n",
       "      <td>15998.000000</td>\n",
       "    </tr>\n",
       "    <tr>\n",
       "      <th>75%</th>\n",
       "      <td>2019.000000</td>\n",
       "      <td>32387.500000</td>\n",
       "      <td>145.000000</td>\n",
       "      <td>64.200000</td>\n",
       "      <td>2.000000</td>\n",
       "      <td>22490.000000</td>\n",
       "    </tr>\n",
       "    <tr>\n",
       "      <th>max</th>\n",
       "      <td>2060.000000</td>\n",
       "      <td>323000.000000</td>\n",
       "      <td>580.000000</td>\n",
       "      <td>470.800000</td>\n",
       "      <td>6.600000</td>\n",
       "      <td>154998.000000</td>\n",
       "    </tr>\n",
       "  </tbody>\n",
       "</table>\n",
       "</div>"
      ],
      "text/plain": [
       "               year        mileage           tax           mpg    engineSize  \\\n",
       "count  64556.000000   64556.000000  64556.000000  64556.000000  64556.000000   \n",
       "mean    2017.114102   23031.711491    118.783072     55.846761      1.716775   \n",
       "std        2.132108   21499.436955     64.560914     17.039259      0.590944   \n",
       "min     1996.000000       1.000000      0.000000      1.100000      0.000000   \n",
       "25%     2016.000000    6970.750000    125.000000     47.900000      1.200000   \n",
       "50%     2017.000000   17162.500000    145.000000     55.400000      1.600000   \n",
       "75%     2019.000000   32387.500000    145.000000     64.200000      2.000000   \n",
       "max     2060.000000  323000.000000    580.000000    470.800000      6.600000   \n",
       "\n",
       "               price  \n",
       "count   64556.000000  \n",
       "mean    18136.018062  \n",
       "std     10266.777814  \n",
       "min       650.000000  \n",
       "25%     10991.000000  \n",
       "50%     15998.000000  \n",
       "75%     22490.000000  \n",
       "max    154998.000000  "
      ]
     },
     "execution_count": 6,
     "metadata": {},
     "output_type": "execute_result"
    }
   ],
   "source": [
    "data.describe()"
   ]
  },
  {
   "cell_type": "markdown",
   "metadata": {},
   "source": [
    "There is outlier in column `year`: value 2060"
   ]
  },
  {
   "cell_type": "code",
   "execution_count": 7,
   "metadata": {},
   "outputs": [
    {
     "name": "stdout",
     "output_type": "stream",
     "text": [
      "name: model | type: object | nunique: 155\n",
      "name: year | type: int64 | nunique: 26\n",
      "name: transmission | type: object | nunique: 4\n",
      "name: mileage | type: int64 | nunique: 33293\n",
      "name: fuelType | type: object | nunique: 5\n",
      "name: tax | type: int64 | nunique: 47\n",
      "name: mpg | type: float64 | nunique: 186\n",
      "name: engineSize | type: float64 | nunique: 40\n",
      "name: car_maker | type: object | nunique: 7\n"
     ]
    }
   ],
   "source": [
    "for col in data.columns[:-1]:\n",
    "    print(f\"name: {col} | type: {data[col].dtype} | nunique: {data[col].nunique()}\")"
   ]
  },
  {
   "cell_type": "markdown",
   "metadata": {},
   "source": [
    "### Working with target column"
   ]
  },
  {
   "cell_type": "code",
   "execution_count": 8,
   "metadata": {},
   "outputs": [
    {
     "data": {
      "text/plain": [
       "<AxesSubplot:xlabel='price', ylabel='Count'>"
      ]
     },
     "execution_count": 8,
     "metadata": {},
     "output_type": "execute_result"
    },
    {
     "data": {
      "image/png": "[encoded data removed]",
      "text/plain": [
       "<Figure size 432x288 with 1 Axes>"
      ]
     },
     "metadata": {
      "needs_background": "light"
     },
     "output_type": "display_data"
    }
   ],
   "source": [
    "sns.histplot(data['price'])"
   ]
  },
  {
   "cell_type": "markdown",
   "metadata": {},
   "source": [
    "The distribution of target column `price` is left-sided. If we apply log function, it will increase prediction's quality (later it will be done by TargetResgressor Trasnform)"
   ]
  },
  {
   "cell_type": "code",
   "execution_count": 9,
   "metadata": {},
   "outputs": [
    {
     "data": {
      "text/plain": [
       "<AxesSubplot:xlabel='price', ylabel='Count'>"
      ]
     },
     "execution_count": 9,
     "metadata": {},
     "output_type": "execute_result"
    },
    {
     "data": {
      "image/png": "[encoded data removed]",
      "text/plain": [
       "<Figure size 432x288 with 1 Axes>"
      ]
     },
     "metadata": {
      "needs_background": "light"
     },
     "output_type": "display_data"
    }
   ],
   "source": [
    "sns.histplot(np.log(data['price']))"
   ]
  },
  {
   "cell_type": "markdown",
   "metadata": {},
   "source": [
    "#### Working with all columns"
   ]
  },
  {
   "cell_type": "code",
   "execution_count": 10,
   "metadata": {},
   "outputs": [],
   "source": [
    "numerical = data.drop(columns=['price']).select_dtypes(include=['int64', 'float64']).columns.values\n",
    "categor_cal = data.select_dtypes(include=['object']).columns.values"
   ]
  },
  {
   "cell_type": "markdown",
   "metadata": {},
   "source": [
    "Making heatmap with correlation (Spearman for numerical data)"
   ]
  },
  {
   "cell_type": "code",
   "execution_count": 11,
   "metadata": {},
   "outputs": [
    {
     "data": {
      "text/plain": [
       "<AxesSubplot:>"
      ]
     },
     "execution_count": 11,
     "metadata": {},
     "output_type": "execute_result"
    },
    {
     "data": {
      "image/png": "[encoded data removed]",
      "text/plain": [
       "<Figure size 432x288 with 2 Axes>"
      ]
     },
     "metadata": {
      "needs_background": "light"
     },
     "output_type": "display_data"
    }
   ],
   "source": [
    "sns.heatmap(data[np.append(numerical, 'price')].corr(method='spearman'), annot=True)"
   ]
  },
  {
   "cell_type": "markdown",
   "metadata": {},
   "source": [
    "There are correleations between modified target column and numerical columns, e.g. new cars cost more than older (by stats), cars with huge mileage has lower price than cars with lower mileage and etc. Lets make graphs to see what's going on"
   ]
  },
  {
   "cell_type": "markdown",
   "metadata": {},
   "source": [
    "- Miles per galoon and price"
   ]
  },
  {
   "cell_type": "code",
   "execution_count": 12,
   "metadata": {},
   "outputs": [
    {
     "data": {
      "text/plain": [
       "Text(0.5, 1.0, 'Miles per galoon (mpg) vs price')"
      ]
     },
     "execution_count": 12,
     "metadata": {},
     "output_type": "execute_result"
    },
    {
     "data": {
      "image/png": "[encoded data removed]",
      "text/plain": [
       "<Figure size 432x288 with 1 Axes>"
      ]
     },
     "metadata": {
      "needs_background": "light"
     },
     "output_type": "display_data"
    }
   ],
   "source": [
    "sns.scatterplot(\n",
    "    x=data['mpg'],\n",
    "    y=data['price']\n",
    ").set_title('Miles per galoon (mpg) vs price')"
   ]
  },
  {
   "cell_type": "markdown",
   "metadata": {},
   "source": [
    "Let see what cars are on the right side"
   ]
  },
  {
   "cell_type": "code",
   "execution_count": 13,
   "metadata": {},
   "outputs": [
    {
     "data": {
      "text/html": [
       "<div>\n",
       "<style scoped>\n",
       "    .dataframe tbody tr th:only-of-type {\n",
       "        vertical-align: middle;\n",
       "    }\n",
       "\n",
       "    .dataframe tbody tr th {\n",
       "        vertical-align: top;\n",
       "    }\n",
       "\n",
       "    .dataframe thead th {\n",
       "        text-align: right;\n",
       "    }\n",
       "</style>\n",
       "<table border=\"1\" class=\"dataframe\">\n",
       "  <thead>\n",
       "    <tr style=\"text-align: right;\">\n",
       "      <th></th>\n",
       "      <th>model</th>\n",
       "      <th>year</th>\n",
       "      <th>transmission</th>\n",
       "      <th>mileage</th>\n",
       "      <th>fuelType</th>\n",
       "      <th>tax</th>\n",
       "      <th>mpg</th>\n",
       "      <th>engineSize</th>\n",
       "      <th>car_maker</th>\n",
       "      <th>price</th>\n",
       "    </tr>\n",
       "  </thead>\n",
       "  <tbody>\n",
       "    <tr>\n",
       "      <th>8835</th>\n",
       "      <td>i3</td>\n",
       "      <td>2015</td>\n",
       "      <td>Automatic</td>\n",
       "      <td>29465</td>\n",
       "      <td>Electric</td>\n",
       "      <td>0</td>\n",
       "      <td>470.8</td>\n",
       "      <td>1.0</td>\n",
       "      <td>bmw</td>\n",
       "      <td>17400</td>\n",
       "    </tr>\n",
       "    <tr>\n",
       "      <th>6280</th>\n",
       "      <td>i3</td>\n",
       "      <td>2017</td>\n",
       "      <td>Automatic</td>\n",
       "      <td>3976</td>\n",
       "      <td>Hybrid</td>\n",
       "      <td>135</td>\n",
       "      <td>470.8</td>\n",
       "      <td>0.0</td>\n",
       "      <td>bmw</td>\n",
       "      <td>22999</td>\n",
       "    </tr>\n",
       "    <tr>\n",
       "      <th>3628</th>\n",
       "      <td>i3</td>\n",
       "      <td>2015</td>\n",
       "      <td>Automatic</td>\n",
       "      <td>65800</td>\n",
       "      <td>Hybrid</td>\n",
       "      <td>0</td>\n",
       "      <td>470.8</td>\n",
       "      <td>0.0</td>\n",
       "      <td>bmw</td>\n",
       "      <td>14285</td>\n",
       "    </tr>\n",
       "    <tr>\n",
       "      <th>6874</th>\n",
       "      <td>i3</td>\n",
       "      <td>2016</td>\n",
       "      <td>Automatic</td>\n",
       "      <td>68000</td>\n",
       "      <td>Hybrid</td>\n",
       "      <td>0</td>\n",
       "      <td>470.8</td>\n",
       "      <td>0.0</td>\n",
       "      <td>bmw</td>\n",
       "      <td>15990</td>\n",
       "    </tr>\n",
       "    <tr>\n",
       "      <th>4749</th>\n",
       "      <td>i3</td>\n",
       "      <td>2014</td>\n",
       "      <td>Automatic</td>\n",
       "      <td>42479</td>\n",
       "      <td>Hybrid</td>\n",
       "      <td>0</td>\n",
       "      <td>470.8</td>\n",
       "      <td>0.0</td>\n",
       "      <td>bmw</td>\n",
       "      <td>15450</td>\n",
       "    </tr>\n",
       "    <tr>\n",
       "      <th>2352</th>\n",
       "      <td>i3</td>\n",
       "      <td>2016</td>\n",
       "      <td>Automatic</td>\n",
       "      <td>8421</td>\n",
       "      <td>Hybrid</td>\n",
       "      <td>0</td>\n",
       "      <td>470.8</td>\n",
       "      <td>0.0</td>\n",
       "      <td>bmw</td>\n",
       "      <td>19490</td>\n",
       "    </tr>\n",
       "    <tr>\n",
       "      <th>3277</th>\n",
       "      <td>i3</td>\n",
       "      <td>2016</td>\n",
       "      <td>Automatic</td>\n",
       "      <td>43695</td>\n",
       "      <td>Hybrid</td>\n",
       "      <td>0</td>\n",
       "      <td>470.8</td>\n",
       "      <td>0.0</td>\n",
       "      <td>bmw</td>\n",
       "      <td>16482</td>\n",
       "    </tr>\n",
       "    <tr>\n",
       "      <th>10325</th>\n",
       "      <td>i3</td>\n",
       "      <td>2016</td>\n",
       "      <td>Automatic</td>\n",
       "      <td>41063</td>\n",
       "      <td>Other</td>\n",
       "      <td>0</td>\n",
       "      <td>470.8</td>\n",
       "      <td>0.6</td>\n",
       "      <td>bmw</td>\n",
       "      <td>17000</td>\n",
       "    </tr>\n",
       "    <tr>\n",
       "      <th>9924</th>\n",
       "      <td>i3</td>\n",
       "      <td>2016</td>\n",
       "      <td>Automatic</td>\n",
       "      <td>35446</td>\n",
       "      <td>Hybrid</td>\n",
       "      <td>0</td>\n",
       "      <td>470.8</td>\n",
       "      <td>0.0</td>\n",
       "      <td>bmw</td>\n",
       "      <td>16500</td>\n",
       "    </tr>\n",
       "    <tr>\n",
       "      <th>8375</th>\n",
       "      <td>i3</td>\n",
       "      <td>2017</td>\n",
       "      <td>Automatic</td>\n",
       "      <td>20321</td>\n",
       "      <td>Electric</td>\n",
       "      <td>135</td>\n",
       "      <td>470.8</td>\n",
       "      <td>0.0</td>\n",
       "      <td>bmw</td>\n",
       "      <td>18999</td>\n",
       "    </tr>\n",
       "    <tr>\n",
       "      <th>32</th>\n",
       "      <td>i3</td>\n",
       "      <td>2016</td>\n",
       "      <td>Automatic</td>\n",
       "      <td>25269</td>\n",
       "      <td>Other</td>\n",
       "      <td>0</td>\n",
       "      <td>470.8</td>\n",
       "      <td>0.6</td>\n",
       "      <td>bmw</td>\n",
       "      <td>17100</td>\n",
       "    </tr>\n",
       "    <tr>\n",
       "      <th>778</th>\n",
       "      <td>i3</td>\n",
       "      <td>2017</td>\n",
       "      <td>Automatic</td>\n",
       "      <td>41146</td>\n",
       "      <td>Hybrid</td>\n",
       "      <td>0</td>\n",
       "      <td>470.8</td>\n",
       "      <td>0.0</td>\n",
       "      <td>bmw</td>\n",
       "      <td>19998</td>\n",
       "    </tr>\n",
       "    <tr>\n",
       "      <th>3913</th>\n",
       "      <td>i3</td>\n",
       "      <td>2017</td>\n",
       "      <td>Automatic</td>\n",
       "      <td>36429</td>\n",
       "      <td>Hybrid</td>\n",
       "      <td>0</td>\n",
       "      <td>470.8</td>\n",
       "      <td>0.0</td>\n",
       "      <td>bmw</td>\n",
       "      <td>18500</td>\n",
       "    </tr>\n",
       "    <tr>\n",
       "      <th>7796</th>\n",
       "      <td>i3</td>\n",
       "      <td>2016</td>\n",
       "      <td>Automatic</td>\n",
       "      <td>19995</td>\n",
       "      <td>Hybrid</td>\n",
       "      <td>0</td>\n",
       "      <td>470.8</td>\n",
       "      <td>0.0</td>\n",
       "      <td>bmw</td>\n",
       "      <td>19850</td>\n",
       "    </tr>\n",
       "    <tr>\n",
       "      <th>5620</th>\n",
       "      <td>i3</td>\n",
       "      <td>2017</td>\n",
       "      <td>Automatic</td>\n",
       "      <td>26139</td>\n",
       "      <td>Hybrid</td>\n",
       "      <td>135</td>\n",
       "      <td>470.8</td>\n",
       "      <td>0.0</td>\n",
       "      <td>bmw</td>\n",
       "      <td>21490</td>\n",
       "    </tr>\n",
       "    <tr>\n",
       "      <th>6876</th>\n",
       "      <td>i3</td>\n",
       "      <td>2016</td>\n",
       "      <td>Automatic</td>\n",
       "      <td>59945</td>\n",
       "      <td>Hybrid</td>\n",
       "      <td>0</td>\n",
       "      <td>470.8</td>\n",
       "      <td>0.0</td>\n",
       "      <td>bmw</td>\n",
       "      <td>14900</td>\n",
       "    </tr>\n",
       "    <tr>\n",
       "      <th>4866</th>\n",
       "      <td>i3</td>\n",
       "      <td>2014</td>\n",
       "      <td>Automatic</td>\n",
       "      <td>34539</td>\n",
       "      <td>Hybrid</td>\n",
       "      <td>0</td>\n",
       "      <td>470.8</td>\n",
       "      <td>0.0</td>\n",
       "      <td>bmw</td>\n",
       "      <td>14495</td>\n",
       "    </tr>\n",
       "    <tr>\n",
       "      <th>621</th>\n",
       "      <td>i3</td>\n",
       "      <td>2017</td>\n",
       "      <td>Automatic</td>\n",
       "      <td>41949</td>\n",
       "      <td>Hybrid</td>\n",
       "      <td>140</td>\n",
       "      <td>470.8</td>\n",
       "      <td>0.0</td>\n",
       "      <td>bmw</td>\n",
       "      <td>19998</td>\n",
       "    </tr>\n",
       "    <tr>\n",
       "      <th>4211</th>\n",
       "      <td>i3</td>\n",
       "      <td>2015</td>\n",
       "      <td>Automatic</td>\n",
       "      <td>33931</td>\n",
       "      <td>Hybrid</td>\n",
       "      <td>0</td>\n",
       "      <td>470.8</td>\n",
       "      <td>0.0</td>\n",
       "      <td>bmw</td>\n",
       "      <td>15498</td>\n",
       "    </tr>\n",
       "    <tr>\n",
       "      <th>7047</th>\n",
       "      <td>i3</td>\n",
       "      <td>2017</td>\n",
       "      <td>Automatic</td>\n",
       "      <td>20929</td>\n",
       "      <td>Hybrid</td>\n",
       "      <td>135</td>\n",
       "      <td>470.8</td>\n",
       "      <td>0.0</td>\n",
       "      <td>bmw</td>\n",
       "      <td>19948</td>\n",
       "    </tr>\n",
       "    <tr>\n",
       "      <th>9259</th>\n",
       "      <td>i3</td>\n",
       "      <td>2015</td>\n",
       "      <td>Automatic</td>\n",
       "      <td>79830</td>\n",
       "      <td>Hybrid</td>\n",
       "      <td>0</td>\n",
       "      <td>470.8</td>\n",
       "      <td>0.0</td>\n",
       "      <td>bmw</td>\n",
       "      <td>12500</td>\n",
       "    </tr>\n",
       "    <tr>\n",
       "      <th>5846</th>\n",
       "      <td>i3</td>\n",
       "      <td>2017</td>\n",
       "      <td>Automatic</td>\n",
       "      <td>10900</td>\n",
       "      <td>Hybrid</td>\n",
       "      <td>140</td>\n",
       "      <td>470.8</td>\n",
       "      <td>0.0</td>\n",
       "      <td>bmw</td>\n",
       "      <td>21500</td>\n",
       "    </tr>\n",
       "    <tr>\n",
       "      <th>7347</th>\n",
       "      <td>i3</td>\n",
       "      <td>2017</td>\n",
       "      <td>Automatic</td>\n",
       "      <td>29851</td>\n",
       "      <td>Hybrid</td>\n",
       "      <td>0</td>\n",
       "      <td>470.8</td>\n",
       "      <td>0.0</td>\n",
       "      <td>bmw</td>\n",
       "      <td>19895</td>\n",
       "    </tr>\n",
       "    <tr>\n",
       "      <th>7084</th>\n",
       "      <td>i3</td>\n",
       "      <td>2017</td>\n",
       "      <td>Automatic</td>\n",
       "      <td>21025</td>\n",
       "      <td>Hybrid</td>\n",
       "      <td>0</td>\n",
       "      <td>470.8</td>\n",
       "      <td>0.0</td>\n",
       "      <td>bmw</td>\n",
       "      <td>22495</td>\n",
       "    </tr>\n",
       "    <tr>\n",
       "      <th>8400</th>\n",
       "      <td>i3</td>\n",
       "      <td>2016</td>\n",
       "      <td>Automatic</td>\n",
       "      <td>9990</td>\n",
       "      <td>Electric</td>\n",
       "      <td>0</td>\n",
       "      <td>470.8</td>\n",
       "      <td>0.0</td>\n",
       "      <td>bmw</td>\n",
       "      <td>18999</td>\n",
       "    </tr>\n",
       "    <tr>\n",
       "      <th>10530</th>\n",
       "      <td>i3</td>\n",
       "      <td>2017</td>\n",
       "      <td>Automatic</td>\n",
       "      <td>50867</td>\n",
       "      <td>Other</td>\n",
       "      <td>135</td>\n",
       "      <td>470.8</td>\n",
       "      <td>0.6</td>\n",
       "      <td>bmw</td>\n",
       "      <td>17600</td>\n",
       "    </tr>\n",
       "    <tr>\n",
       "      <th>10086</th>\n",
       "      <td>i3</td>\n",
       "      <td>2017</td>\n",
       "      <td>Automatic</td>\n",
       "      <td>23956</td>\n",
       "      <td>Other</td>\n",
       "      <td>135</td>\n",
       "      <td>470.8</td>\n",
       "      <td>0.6</td>\n",
       "      <td>bmw</td>\n",
       "      <td>19500</td>\n",
       "    </tr>\n",
       "    <tr>\n",
       "      <th>5745</th>\n",
       "      <td>i3</td>\n",
       "      <td>2017</td>\n",
       "      <td>Automatic</td>\n",
       "      <td>23983</td>\n",
       "      <td>Hybrid</td>\n",
       "      <td>0</td>\n",
       "      <td>470.8</td>\n",
       "      <td>0.0</td>\n",
       "      <td>bmw</td>\n",
       "      <td>19000</td>\n",
       "    </tr>\n",
       "    <tr>\n",
       "      <th>7254</th>\n",
       "      <td>i3</td>\n",
       "      <td>2016</td>\n",
       "      <td>Automatic</td>\n",
       "      <td>20013</td>\n",
       "      <td>Hybrid</td>\n",
       "      <td>0</td>\n",
       "      <td>470.8</td>\n",
       "      <td>0.0</td>\n",
       "      <td>bmw</td>\n",
       "      <td>19875</td>\n",
       "    </tr>\n",
       "    <tr>\n",
       "      <th>4100</th>\n",
       "      <td>i3</td>\n",
       "      <td>2017</td>\n",
       "      <td>Automatic</td>\n",
       "      <td>17338</td>\n",
       "      <td>Hybrid</td>\n",
       "      <td>135</td>\n",
       "      <td>470.8</td>\n",
       "      <td>0.0</td>\n",
       "      <td>bmw</td>\n",
       "      <td>19495</td>\n",
       "    </tr>\n",
       "    <tr>\n",
       "      <th>8188</th>\n",
       "      <td>i3</td>\n",
       "      <td>2015</td>\n",
       "      <td>Automatic</td>\n",
       "      <td>59000</td>\n",
       "      <td>Other</td>\n",
       "      <td>0</td>\n",
       "      <td>470.8</td>\n",
       "      <td>0.6</td>\n",
       "      <td>bmw</td>\n",
       "      <td>14940</td>\n",
       "    </tr>\n",
       "    <tr>\n",
       "      <th>4109</th>\n",
       "      <td>i3</td>\n",
       "      <td>2015</td>\n",
       "      <td>Automatic</td>\n",
       "      <td>9886</td>\n",
       "      <td>Hybrid</td>\n",
       "      <td>0</td>\n",
       "      <td>470.8</td>\n",
       "      <td>0.0</td>\n",
       "      <td>bmw</td>\n",
       "      <td>17481</td>\n",
       "    </tr>\n",
       "    <tr>\n",
       "      <th>5502</th>\n",
       "      <td>i3</td>\n",
       "      <td>2017</td>\n",
       "      <td>Automatic</td>\n",
       "      <td>33021</td>\n",
       "      <td>Hybrid</td>\n",
       "      <td>0</td>\n",
       "      <td>470.8</td>\n",
       "      <td>0.0</td>\n",
       "      <td>bmw</td>\n",
       "      <td>18995</td>\n",
       "    </tr>\n",
       "    <tr>\n",
       "      <th>6070</th>\n",
       "      <td>i3</td>\n",
       "      <td>2017</td>\n",
       "      <td>Automatic</td>\n",
       "      <td>28169</td>\n",
       "      <td>Hybrid</td>\n",
       "      <td>0</td>\n",
       "      <td>470.8</td>\n",
       "      <td>0.0</td>\n",
       "      <td>bmw</td>\n",
       "      <td>23751</td>\n",
       "    </tr>\n",
       "    <tr>\n",
       "      <th>6814</th>\n",
       "      <td>i3</td>\n",
       "      <td>2017</td>\n",
       "      <td>Automatic</td>\n",
       "      <td>16867</td>\n",
       "      <td>Hybrid</td>\n",
       "      <td>135</td>\n",
       "      <td>470.8</td>\n",
       "      <td>0.0</td>\n",
       "      <td>bmw</td>\n",
       "      <td>21494</td>\n",
       "    </tr>\n",
       "  </tbody>\n",
       "</table>\n",
       "</div>"
      ],
      "text/plain": [
       "      model  year transmission  mileage  fuelType  tax    mpg  engineSize  \\\n",
       "8835     i3  2015    Automatic    29465  Electric    0  470.8         1.0   \n",
       "6280     i3  2017    Automatic     3976    Hybrid  135  470.8         0.0   \n",
       "3628     i3  2015    Automatic    65800    Hybrid    0  470.8         0.0   \n",
       "6874     i3  2016    Automatic    68000    Hybrid    0  470.8         0.0   \n",
       "4749     i3  2014    Automatic    42479    Hybrid    0  470.8         0.0   \n",
       "2352     i3  2016    Automatic     8421    Hybrid    0  470.8         0.0   \n",
       "3277     i3  2016    Automatic    43695    Hybrid    0  470.8         0.0   \n",
       "10325    i3  2016    Automatic    41063     Other    0  470.8         0.6   \n",
       "9924     i3  2016    Automatic    35446    Hybrid    0  470.8         0.0   \n",
       "8375     i3  2017    Automatic    20321  Electric  135  470.8         0.0   \n",
       "32       i3  2016    Automatic    25269     Other    0  470.8         0.6   \n",
       "778      i3  2017    Automatic    41146    Hybrid    0  470.8         0.0   \n",
       "3913     i3  2017    Automatic    36429    Hybrid    0  470.8         0.0   \n",
       "7796     i3  2016    Automatic    19995    Hybrid    0  470.8         0.0   \n",
       "5620     i3  2017    Automatic    26139    Hybrid  135  470.8         0.0   \n",
       "6876     i3  2016    Automatic    59945    Hybrid    0  470.8         0.0   \n",
       "4866     i3  2014    Automatic    34539    Hybrid    0  470.8         0.0   \n",
       "621      i3  2017    Automatic    41949    Hybrid  140  470.8         0.0   \n",
       "4211     i3  2015    Automatic    33931    Hybrid    0  470.8         0.0   \n",
       "7047     i3  2017    Automatic    20929    Hybrid  135  470.8         0.0   \n",
       "9259     i3  2015    Automatic    79830    Hybrid    0  470.8         0.0   \n",
       "5846     i3  2017    Automatic    10900    Hybrid  140  470.8         0.0   \n",
       "7347     i3  2017    Automatic    29851    Hybrid    0  470.8         0.0   \n",
       "7084     i3  2017    Automatic    21025    Hybrid    0  470.8         0.0   \n",
       "8400     i3  2016    Automatic     9990  Electric    0  470.8         0.0   \n",
       "10530    i3  2017    Automatic    50867     Other  135  470.8         0.6   \n",
       "10086    i3  2017    Automatic    23956     Other  135  470.8         0.6   \n",
       "5745     i3  2017    Automatic    23983    Hybrid    0  470.8         0.0   \n",
       "7254     i3  2016    Automatic    20013    Hybrid    0  470.8         0.0   \n",
       "4100     i3  2017    Automatic    17338    Hybrid  135  470.8         0.0   \n",
       "8188     i3  2015    Automatic    59000     Other    0  470.8         0.6   \n",
       "4109     i3  2015    Automatic     9886    Hybrid    0  470.8         0.0   \n",
       "5502     i3  2017    Automatic    33021    Hybrid    0  470.8         0.0   \n",
       "6070     i3  2017    Automatic    28169    Hybrid    0  470.8         0.0   \n",
       "6814     i3  2017    Automatic    16867    Hybrid  135  470.8         0.0   \n",
       "\n",
       "      car_maker  price  \n",
       "8835        bmw  17400  \n",
       "6280        bmw  22999  \n",
       "3628        bmw  14285  \n",
       "6874        bmw  15990  \n",
       "4749        bmw  15450  \n",
       "2352        bmw  19490  \n",
       "3277        bmw  16482  \n",
       "10325       bmw  17000  \n",
       "9924        bmw  16500  \n",
       "8375        bmw  18999  \n",
       "32          bmw  17100  \n",
       "778         bmw  19998  \n",
       "3913        bmw  18500  \n",
       "7796        bmw  19850  \n",
       "5620        bmw  21490  \n",
       "6876        bmw  14900  \n",
       "4866        bmw  14495  \n",
       "621         bmw  19998  \n",
       "4211        bmw  15498  \n",
       "7047        bmw  19948  \n",
       "9259        bmw  12500  \n",
       "5846        bmw  21500  \n",
       "7347        bmw  19895  \n",
       "7084        bmw  22495  \n",
       "8400        bmw  18999  \n",
       "10530       bmw  17600  \n",
       "10086       bmw  19500  \n",
       "5745        bmw  19000  \n",
       "7254        bmw  19875  \n",
       "4100        bmw  19495  \n",
       "8188        bmw  14940  \n",
       "4109        bmw  17481  \n",
       "5502        bmw  18995  \n",
       "6070        bmw  23751  \n",
       "6814        bmw  21494  "
      ]
     },
     "execution_count": 13,
     "metadata": {},
     "output_type": "execute_result"
    }
   ],
   "source": [
    "mpg_outlier = data[data['mpg'] > 400]\n",
    "mpg_outlier"
   ]
  },
  {
   "cell_type": "markdown",
   "metadata": {},
   "source": [
    "BMW i3 is hybrid model (fueltype - Electic / Petrol), and then it has 400 mpg."
   ]
  },
  {
   "cell_type": "markdown",
   "metadata": {},
   "source": [
    "- Year of production and price"
   ]
  },
  {
   "cell_type": "code",
   "execution_count": 14,
   "metadata": {},
   "outputs": [
    {
     "data": {
      "text/plain": [
       "Text(0.5, 1.0, 'Year od production (year) vs price')"
      ]
     },
     "execution_count": 14,
     "metadata": {},
     "output_type": "execute_result"
    },
    {
     "data": {
      "image/png": "[encoded data removed]",
      "text/plain": [
       "<Figure size 432x288 with 1 Axes>"
      ]
     },
     "metadata": {
      "needs_background": "light"
     },
     "output_type": "display_data"
    }
   ],
   "source": [
    "sns.scatterplot(\n",
    "    x=data['year'],\n",
    "    y=data['price']\n",
    ").set_title('Year od production (year) vs price')"
   ]
  },
  {
   "cell_type": "markdown",
   "metadata": {},
   "source": [
    "There is outlier (object has value 2060 in year column). It's only one."
   ]
  },
  {
   "cell_type": "code",
   "execution_count": 15,
   "metadata": {},
   "outputs": [
    {
     "data": {
      "text/html": [
       "<div>\n",
       "<style scoped>\n",
       "    .dataframe tbody tr th:only-of-type {\n",
       "        vertical-align: middle;\n",
       "    }\n",
       "\n",
       "    .dataframe tbody tr th {\n",
       "        vertical-align: top;\n",
       "    }\n",
       "\n",
       "    .dataframe thead th {\n",
       "        text-align: right;\n",
       "    }\n",
       "</style>\n",
       "<table border=\"1\" class=\"dataframe\">\n",
       "  <thead>\n",
       "    <tr style=\"text-align: right;\">\n",
       "      <th></th>\n",
       "      <th>model</th>\n",
       "      <th>year</th>\n",
       "      <th>transmission</th>\n",
       "      <th>mileage</th>\n",
       "      <th>fuelType</th>\n",
       "      <th>tax</th>\n",
       "      <th>mpg</th>\n",
       "      <th>engineSize</th>\n",
       "      <th>car_maker</th>\n",
       "      <th>price</th>\n",
       "    </tr>\n",
       "  </thead>\n",
       "  <tbody>\n",
       "    <tr>\n",
       "      <th>17726</th>\n",
       "      <td>Fiesta</td>\n",
       "      <td>2060</td>\n",
       "      <td>Automatic</td>\n",
       "      <td>54807</td>\n",
       "      <td>Petrol</td>\n",
       "      <td>205</td>\n",
       "      <td>42.8</td>\n",
       "      <td>1.4</td>\n",
       "      <td>ford</td>\n",
       "      <td>6495</td>\n",
       "    </tr>\n",
       "  </tbody>\n",
       "</table>\n",
       "</div>"
      ],
      "text/plain": [
       "         model  year transmission  mileage fuelType  tax   mpg  engineSize  \\\n",
       "17726   Fiesta  2060    Automatic    54807   Petrol  205  42.8         1.4   \n",
       "\n",
       "      car_maker  price  \n",
       "17726      ford   6495  "
      ]
     },
     "execution_count": 15,
     "metadata": {},
     "output_type": "execute_result"
    }
   ],
   "source": [
    "data[data['year'] > 2020]"
   ]
  },
  {
   "cell_type": "code",
   "execution_count": 16,
   "metadata": {},
   "outputs": [],
   "source": [
    "data = data[data['year'] <= 2020]"
   ]
  },
  {
   "cell_type": "markdown",
   "metadata": {},
   "source": [
    "- Mileage and price"
   ]
  },
  {
   "cell_type": "code",
   "execution_count": 17,
   "metadata": {},
   "outputs": [
    {
     "data": {
      "text/plain": [
       "Text(0.5, 1.0, 'Mileage (mileage) and price')"
      ]
     },
     "execution_count": 17,
     "metadata": {},
     "output_type": "execute_result"
    },
    {
     "data": {
      "image/png": "[encoded data removed]",
      "text/plain": [
       "<Figure size 432x288 with 1 Axes>"
      ]
     },
     "metadata": {
      "needs_background": "light"
     },
     "output_type": "display_data"
    }
   ],
   "source": [
    "sns.scatterplot(\n",
    "    x=data['mileage'],\n",
    "    y=data['price']\n",
    ").set_title('Mileage (mileage) and price')"
   ]
  },
  {
   "cell_type": "markdown",
   "metadata": {},
   "source": [
    "- Tax and price"
   ]
  },
  {
   "cell_type": "code",
   "execution_count": 18,
   "metadata": {},
   "outputs": [
    {
     "data": {
      "text/plain": [
       "Text(0.5, 1.0, 'Tax (tax) and price')"
      ]
     },
     "execution_count": 18,
     "metadata": {},
     "output_type": "execute_result"
    },
    {
     "data": {
      "image/png": "[encoded data removed]",
      "text/plain": [
       "<Figure size 432x288 with 1 Axes>"
      ]
     },
     "metadata": {
      "needs_background": "light"
     },
     "output_type": "display_data"
    }
   ],
   "source": [
    "sns.scatterplot(\n",
    "    x=data['tax'],\n",
    "    y=data['price']\n",
    ").set_title('Tax (tax) and price')"
   ]
  },
  {
   "cell_type": "markdown",
   "metadata": {},
   "source": [
    "- Engine Size and price"
   ]
  },
  {
   "cell_type": "code",
   "execution_count": 19,
   "metadata": {},
   "outputs": [
    {
     "data": {
      "text/plain": [
       "Text(0.5, 1.0, 'Engine Size (engineSize) and price')"
      ]
     },
     "execution_count": 19,
     "metadata": {},
     "output_type": "execute_result"
    },
    {
     "data": {
      "image/png": "[encoded data removed]",
      "text/plain": [
       "<Figure size 432x288 with 1 Axes>"
      ]
     },
     "metadata": {
      "needs_background": "light"
     },
     "output_type": "display_data"
    }
   ],
   "source": [
    "sns.scatterplot(\n",
    "    x=data['engineSize'],\n",
    "    y=data['price']\n",
    ").set_title('Engine Size (engineSize) and price')"
   ]
  },
  {
   "cell_type": "markdown",
   "metadata": {},
   "source": [
    "### Working with categorical columns\n",
    "There are 3 categorical features: `model` (155 unique values), `transmission` (4 unique values), `fuelType` (5 unique values), `car_maker` (7 unique values)"
   ]
  },
  {
   "cell_type": "code",
   "execution_count": 20,
   "metadata": {},
   "outputs": [
    {
     "data": {
      "text/plain": [
       "Text(0.5, 1.0, 'Car makers (car_maker) and price')"
      ]
     },
     "execution_count": 20,
     "metadata": {},
     "output_type": "execute_result"
    },
    {
     "data": {
      "image/png": "[encoded data removed]",
      "text/plain": [
       "<Figure size 432x288 with 1 Axes>"
      ]
     },
     "metadata": {
      "needs_background": "light"
     },
     "output_type": "display_data"
    }
   ],
   "source": [
    "sns.boxplot(\n",
    "    x=data['car_maker'],\n",
    "    y=data['price']\n",
    ").set_title('Car makers (car_maker) and price')"
   ]
  },
  {
   "cell_type": "markdown",
   "metadata": {},
   "source": [
    "It seems that boxplots of mercedes, bmw, audi car makers are higher than others. Let's make a boolean feature with name `is_premium`"
   ]
  },
  {
   "cell_type": "code",
   "execution_count": 21,
   "metadata": {},
   "outputs": [],
   "source": [
    "data['is_premium'] = data['car_maker'].apply(lambda x: 1 if x in ('bmw', 'mercedes', 'audi') else 0)"
   ]
  },
  {
   "cell_type": "code",
   "execution_count": 22,
   "metadata": {},
   "outputs": [
    {
     "data": {
      "text/plain": [
       "Text(0.5, 1.0, 'Price of premium / non-premium cars')"
      ]
     },
     "execution_count": 22,
     "metadata": {},
     "output_type": "execute_result"
    },
    {
     "data": {
      "image/png": "[encoded data removed]",
      "text/plain": [
       "<Figure size 432x288 with 1 Axes>"
      ]
     },
     "metadata": {
      "needs_background": "light"
     },
     "output_type": "display_data"
    }
   ],
   "source": [
    "sns.boxplot(\n",
    "    x=data['is_premium'], y=data['price']\n",
    ").set_title('Price of premium / non-premium cars')"
   ]
  },
  {
   "cell_type": "code",
   "execution_count": 23,
   "metadata": {},
   "outputs": [
    {
     "data": {
      "text/plain": [
       "Text(0.5, 1.0, 'Type of Fuel and price')"
      ]
     },
     "execution_count": 23,
     "metadata": {},
     "output_type": "execute_result"
    },
    {
     "data": {
      "image/png": "[encoded data removed]",
      "text/plain": [
       "<Figure size 432x288 with 1 Axes>"
      ]
     },
     "metadata": {
      "needs_background": "light"
     },
     "output_type": "display_data"
    }
   ],
   "source": [
    "sns.boxplot(x=data['fuelType'], y=data['price']).set_title('Type of Fuel and price')"
   ]
  },
  {
   "cell_type": "code",
   "execution_count": 24,
   "metadata": {},
   "outputs": [
    {
     "data": {
      "text/plain": [
       "Text(0.5, 1.0, 'Type of transmission and price')"
      ]
     },
     "execution_count": 24,
     "metadata": {},
     "output_type": "execute_result"
    },
    {
     "data": {
      "image/png": "[encoded data removed]",
      "text/plain": [
       "<Figure size 432x288 with 1 Axes>"
      ]
     },
     "metadata": {
      "needs_background": "light"
     },
     "output_type": "display_data"
    }
   ],
   "source": [
    "sns.boxplot(x=data['transmission'], y=data['price']).set_title('Type of transmission and price')"
   ]
  },
  {
   "cell_type": "code",
   "execution_count": 25,
   "metadata": {},
   "outputs": [],
   "source": [
    "data['model'] = data['model'].apply(lambda x: x.strip())"
   ]
  },
  {
   "cell_type": "code",
   "execution_count": 26,
   "metadata": {},
   "outputs": [],
   "source": [
    "data_premium = data[data['is_premium'] == 1].drop(columns=['is_premium'])\n",
    "data_regular = data[data['is_premium'] == 0].drop(columns=['is_premium'])\n",
    "\n",
    "X_prem, y_prem = data_premium.drop(columns=['price']), data_premium['price']\n",
    "X_reg, y_reg= data_regular.drop(columns=['price']), data_regular['price']\n"
   ]
  },
  {
   "cell_type": "markdown",
   "metadata": {},
   "source": [
    "### Making a pipeline for faster modelling"
   ]
  },
  {
   "cell_type": "code",
   "execution_count": 27,
   "metadata": {},
   "outputs": [],
   "source": [
    "# data processing for categorical and numerical types\n",
    "\n",
    "categorical_transform = Pipeline(\n",
    "    [('ohe', OneHotEncoder(handle_unknown='ignore'))]\n",
    ")\n",
    "\n",
    "numerical_transform = Pipeline(\n",
    "    [('scaler', MinMaxScaler())]\n",
    ")"
   ]
  },
  {
   "cell_type": "code",
   "execution_count": 28,
   "metadata": {},
   "outputs": [],
   "source": [
    "# combine transformers into one\n",
    "\n",
    "preprocess_trans = ColumnTransformer(transformers=[\n",
    "    ('numer', numerical_transform, numerical),\n",
    "    ('caterog', categorical_transform, categor_cal),\n",
    "])"
   ]
  },
  {
   "cell_type": "code",
   "execution_count": 29,
   "metadata": {},
   "outputs": [],
   "source": [
    "# making two models (premium and regular cars)\n",
    "# using traformed targer regressor in order to return original predictions\n",
    "# by using converation log function and reverse exp\n",
    "\n",
    "baseline_premium = Pipeline(\n",
    "    steps=[('preprocess', preprocess_trans), ('model', TransformedTargetRegressor(regressor=Ridge(), func=np.log, inverse_func=np.exp))]\n",
    ")\n",
    "\n",
    "baseline_reg = Pipeline(\n",
    "    steps=[('preprocess', preprocess_trans), ('model', TransformedTargetRegressor(regressor=Ridge(), func=np.log, inverse_func=np.exp))]\n",
    ")"
   ]
  },
  {
   "cell_type": "code",
   "execution_count": 30,
   "metadata": {},
   "outputs": [],
   "source": [
    "splitter = KFold(n_splits=5)\n",
    "param_grid = {\n",
    "    'model__regressor__alpha': np.linspace(0.0001, 10, 100)\n",
    "}"
   ]
  },
  {
   "cell_type": "code",
   "execution_count": 31,
   "metadata": {},
   "outputs": [],
   "source": [
    "gsv_prem = GridSearchCV(baseline_premium, param_grid=param_grid, scoring='neg_mean_absolute_error', cv=splitter)\n",
    "gsv_reg = GridSearchCV(baseline_reg, param_grid=param_grid, scoring='neg_mean_absolute_error', cv=splitter)"
   ]
  },
  {
   "cell_type": "code",
   "execution_count": 32,
   "metadata": {},
   "outputs": [
    {
     "data": {
      "text/html": [
       "<style>#sk-container-id-1 {color: black;background-color: white;}#sk-container-id-1 pre{padding: 0;}#sk-container-id-1 div.sk-toggleable {background-color: white;}#sk-container-id-1 label.sk-toggleable__label {cursor: pointer;display: block;width: 100%;margin-bottom: 0;padding: 0.3em;box-sizing: border-box;text-align: center;}#sk-container-id-1 label.sk-toggleable__label-arrow:before {content: \"▸\";float: left;margin-right: 0.25em;color: #696969;}#sk-container-id-1 label.sk-toggleable__label-arrow:hover:before {color: black;}#sk-container-id-1 div.sk-estimator:hover label.sk-toggleable__label-arrow:before {color: black;}#sk-container-id-1 div.sk-toggleable__content {max-height: 0;max-width: 0;overflow: hidden;text-align: left;background-color: #f0f8ff;}#sk-container-id-1 div.sk-toggleable__content pre {margin: 0.2em;color: black;border-radius: 0.25em;background-color: #f0f8ff;}#sk-container-id-1 input.sk-toggleable__control:checked~div.sk-toggleable__content {max-height: 200px;max-width: 100%;overflow: auto;}#sk-container-id-1 input.sk-toggleable__control:checked~label.sk-toggleable__label-arrow:before {content: \"▾\";}#sk-container-id-1 div.sk-estimator input.sk-toggleable__control:checked~label.sk-toggleable__label {background-color: #d4ebff;}#sk-container-id-1 div.sk-label input.sk-toggleable__control:checked~label.sk-toggleable__label {background-color: #d4ebff;}#sk-container-id-1 input.sk-hidden--visually {border: 0;clip: rect(1px 1px 1px 1px);clip: rect(1px, 1px, 1px, 1px);height: 1px;margin: -1px;overflow: hidden;padding: 0;position: absolute;width: 1px;}#sk-container-id-1 div.sk-estimator {font-family: monospace;background-color: #f0f8ff;border: 1px dotted black;border-radius: 0.25em;box-sizing: border-box;margin-bottom: 0.5em;}#sk-container-id-1 div.sk-estimator:hover {background-color: #d4ebff;}#sk-container-id-1 div.sk-parallel-item::after {content: \"\";width: 100%;border-bottom: 1px solid gray;flex-grow: 1;}#sk-container-id-1 div.sk-label:hover label.sk-toggleable__label {background-color: #d4ebff;}#sk-container-id-1 div.sk-serial::before {content: \"\";position: absolute;border-left: 1px solid gray;box-sizing: border-box;top: 0;bottom: 0;left: 50%;z-index: 0;}#sk-container-id-1 div.sk-serial {display: flex;flex-direction: column;align-items: center;background-color: white;padding-right: 0.2em;padding-left: 0.2em;position: relative;}#sk-container-id-1 div.sk-item {position: relative;z-index: 1;}#sk-container-id-1 div.sk-parallel {display: flex;align-items: stretch;justify-content: center;background-color: white;position: relative;}#sk-container-id-1 div.sk-item::before, #sk-container-id-1 div.sk-parallel-item::before {content: \"\";position: absolute;border-left: 1px solid gray;box-sizing: border-box;top: 0;bottom: 0;left: 50%;z-index: -1;}#sk-container-id-1 div.sk-parallel-item {display: flex;flex-direction: column;z-index: 1;position: relative;background-color: white;}#sk-container-id-1 div.sk-parallel-item:first-child::after {align-self: flex-end;width: 50%;}#sk-container-id-1 div.sk-parallel-item:last-child::after {align-self: flex-start;width: 50%;}#sk-container-id-1 div.sk-parallel-item:only-child::after {width: 0;}#sk-container-id-1 div.sk-dashed-wrapped {border: 1px dashed gray;margin: 0 0.4em 0.5em 0.4em;box-sizing: border-box;padding-bottom: 0.4em;background-color: white;}#sk-container-id-1 div.sk-label label {font-family: monospace;font-weight: bold;display: inline-block;line-height: 1.2em;}#sk-container-id-1 div.sk-label-container {text-align: center;}#sk-container-id-1 div.sk-container {/* jupyter's `normalize.less` sets `[hidden] { display: none; }` but bootstrap.min.css set `[hidden] { display: none !important; }` so we also need the `!important` here to be able to override the default hidden behavior on the sphinx rendered scikit-learn.org. See: https://github.com/scikit-learn/scikit-learn/issues/21755 */display: inline-block !important;position: relative;}#sk-container-id-1 div.sk-text-repr-fallback {display: none;}</style><div id=\"sk-container-id-1\" class=\"sk-top-container\"><div class=\"sk-text-repr-fallback\"><pre>GridSearchCV(cv=KFold(n_splits=5, random_state=None, shuffle=False),\n",
       "             estimator=Pipeline(steps=[(&#x27;preprocess&#x27;,\n",
       "                                        ColumnTransformer(transformers=[(&#x27;numer&#x27;,\n",
       "                                                                         Pipeline(steps=[(&#x27;scaler&#x27;,\n",
       "                                                                                          MinMaxScaler())]),\n",
       "                                                                         array([&#x27;year&#x27;, &#x27;mileage&#x27;, &#x27;tax&#x27;, &#x27;mpg&#x27;, &#x27;engineSize&#x27;], dtype=object)),\n",
       "                                                                        (&#x27;caterog&#x27;,\n",
       "                                                                         Pipeline(steps=[(&#x27;ohe&#x27;,\n",
       "                                                                                          OneHotEncoder(handle_unknown=&#x27;ignore&#x27;))]),\n",
       "                                                                         array([&#x27;model&#x27;, &#x27;tr...\n",
       "       7.67679091e+00, 7.77780000e+00, 7.87880909e+00, 7.97981818e+00,\n",
       "       8.08082727e+00, 8.18183636e+00, 8.28284545e+00, 8.38385455e+00,\n",
       "       8.48486364e+00, 8.58587273e+00, 8.68688182e+00, 8.78789091e+00,\n",
       "       8.88890000e+00, 8.98990909e+00, 9.09091818e+00, 9.19192727e+00,\n",
       "       9.29293636e+00, 9.39394545e+00, 9.49495455e+00, 9.59596364e+00,\n",
       "       9.69697273e+00, 9.79798182e+00, 9.89899091e+00, 1.00000000e+01])},\n",
       "             scoring=&#x27;neg_mean_absolute_error&#x27;)</pre><b>In a Jupyter environment, please rerun this cell to show the HTML representation or trust the notebook. <br />On GitHub, the HTML representation is unable to render, please try loading this page with nbviewer.org.</b></div><div class=\"sk-container\" hidden><div class=\"sk-item sk-dashed-wrapped\"><div class=\"sk-label-container\"><div class=\"sk-label sk-toggleable\"><input class=\"sk-toggleable__control sk-hidden--visually\" id=\"sk-estimator-id-1\" type=\"checkbox\" ><label for=\"sk-estimator-id-1\" class=\"sk-toggleable__label sk-toggleable__label-arrow\">GridSearchCV</label><div class=\"sk-toggleable__content\"><pre>GridSearchCV(cv=KFold(n_splits=5, random_state=None, shuffle=False),\n",
       "             estimator=Pipeline(steps=[(&#x27;preprocess&#x27;,\n",
       "                                        ColumnTransformer(transformers=[(&#x27;numer&#x27;,\n",
       "                                                                         Pipeline(steps=[(&#x27;scaler&#x27;,\n",
       "                                                                                          MinMaxScaler())]),\n",
       "                                                                         array([&#x27;year&#x27;, &#x27;mileage&#x27;, &#x27;tax&#x27;, &#x27;mpg&#x27;, &#x27;engineSize&#x27;], dtype=object)),\n",
       "                                                                        (&#x27;caterog&#x27;,\n",
       "                                                                         Pipeline(steps=[(&#x27;ohe&#x27;,\n",
       "                                                                                          OneHotEncoder(handle_unknown=&#x27;ignore&#x27;))]),\n",
       "                                                                         array([&#x27;model&#x27;, &#x27;tr...\n",
       "       7.67679091e+00, 7.77780000e+00, 7.87880909e+00, 7.97981818e+00,\n",
       "       8.08082727e+00, 8.18183636e+00, 8.28284545e+00, 8.38385455e+00,\n",
       "       8.48486364e+00, 8.58587273e+00, 8.68688182e+00, 8.78789091e+00,\n",
       "       8.88890000e+00, 8.98990909e+00, 9.09091818e+00, 9.19192727e+00,\n",
       "       9.29293636e+00, 9.39394545e+00, 9.49495455e+00, 9.59596364e+00,\n",
       "       9.69697273e+00, 9.79798182e+00, 9.89899091e+00, 1.00000000e+01])},\n",
       "             scoring=&#x27;neg_mean_absolute_error&#x27;)</pre></div></div></div><div class=\"sk-parallel\"><div class=\"sk-parallel-item\"><div class=\"sk-item\"><div class=\"sk-label-container\"><div class=\"sk-label sk-toggleable\"><input class=\"sk-toggleable__control sk-hidden--visually\" id=\"sk-estimator-id-2\" type=\"checkbox\" ><label for=\"sk-estimator-id-2\" class=\"sk-toggleable__label sk-toggleable__label-arrow\">estimator: Pipeline</label><div class=\"sk-toggleable__content\"><pre>Pipeline(steps=[(&#x27;preprocess&#x27;,\n",
       "                 ColumnTransformer(transformers=[(&#x27;numer&#x27;,\n",
       "                                                  Pipeline(steps=[(&#x27;scaler&#x27;,\n",
       "                                                                   MinMaxScaler())]),\n",
       "                                                  array([&#x27;year&#x27;, &#x27;mileage&#x27;, &#x27;tax&#x27;, &#x27;mpg&#x27;, &#x27;engineSize&#x27;], dtype=object)),\n",
       "                                                 (&#x27;caterog&#x27;,\n",
       "                                                  Pipeline(steps=[(&#x27;ohe&#x27;,\n",
       "                                                                   OneHotEncoder(handle_unknown=&#x27;ignore&#x27;))]),\n",
       "                                                  array([&#x27;model&#x27;, &#x27;transmission&#x27;, &#x27;fuelType&#x27;, &#x27;car_maker&#x27;], dtype=object))])),\n",
       "                (&#x27;model&#x27;,\n",
       "                 TransformedTargetRegressor(func=&lt;ufunc &#x27;log&#x27;&gt;,\n",
       "                                            inverse_func=&lt;ufunc &#x27;exp&#x27;&gt;,\n",
       "                                            regressor=Ridge()))])</pre></div></div></div><div class=\"sk-serial\"><div class=\"sk-item\"><div class=\"sk-serial\"><div class=\"sk-item sk-dashed-wrapped\"><div class=\"sk-label-container\"><div class=\"sk-label sk-toggleable\"><input class=\"sk-toggleable__control sk-hidden--visually\" id=\"sk-estimator-id-3\" type=\"checkbox\" ><label for=\"sk-estimator-id-3\" class=\"sk-toggleable__label sk-toggleable__label-arrow\">preprocess: ColumnTransformer</label><div class=\"sk-toggleable__content\"><pre>ColumnTransformer(transformers=[(&#x27;numer&#x27;,\n",
       "                                 Pipeline(steps=[(&#x27;scaler&#x27;, MinMaxScaler())]),\n",
       "                                 array([&#x27;year&#x27;, &#x27;mileage&#x27;, &#x27;tax&#x27;, &#x27;mpg&#x27;, &#x27;engineSize&#x27;], dtype=object)),\n",
       "                                (&#x27;caterog&#x27;,\n",
       "                                 Pipeline(steps=[(&#x27;ohe&#x27;,\n",
       "                                                  OneHotEncoder(handle_unknown=&#x27;ignore&#x27;))]),\n",
       "                                 array([&#x27;model&#x27;, &#x27;transmission&#x27;, &#x27;fuelType&#x27;, &#x27;car_maker&#x27;], dtype=object))])</pre></div></div></div><div class=\"sk-parallel\"><div class=\"sk-parallel-item\"><div class=\"sk-item\"><div class=\"sk-label-container\"><div class=\"sk-label sk-toggleable\"><input class=\"sk-toggleable__control sk-hidden--visually\" id=\"sk-estimator-id-4\" type=\"checkbox\" ><label for=\"sk-estimator-id-4\" class=\"sk-toggleable__label sk-toggleable__label-arrow\">numer</label><div class=\"sk-toggleable__content\"><pre>[&#x27;year&#x27; &#x27;mileage&#x27; &#x27;tax&#x27; &#x27;mpg&#x27; &#x27;engineSize&#x27;]</pre></div></div></div><div class=\"sk-serial\"><div class=\"sk-item\"><div class=\"sk-serial\"><div class=\"sk-item\"><div class=\"sk-estimator sk-toggleable\"><input class=\"sk-toggleable__control sk-hidden--visually\" id=\"sk-estimator-id-5\" type=\"checkbox\" ><label for=\"sk-estimator-id-5\" class=\"sk-toggleable__label sk-toggleable__label-arrow\">MinMaxScaler</label><div class=\"sk-toggleable__content\"><pre>MinMaxScaler()</pre></div></div></div></div></div></div></div></div><div class=\"sk-parallel-item\"><div class=\"sk-item\"><div class=\"sk-label-container\"><div class=\"sk-label sk-toggleable\"><input class=\"sk-toggleable__control sk-hidden--visually\" id=\"sk-estimator-id-6\" type=\"checkbox\" ><label for=\"sk-estimator-id-6\" class=\"sk-toggleable__label sk-toggleable__label-arrow\">caterog</label><div class=\"sk-toggleable__content\"><pre>[&#x27;model&#x27; &#x27;transmission&#x27; &#x27;fuelType&#x27; &#x27;car_maker&#x27;]</pre></div></div></div><div class=\"sk-serial\"><div class=\"sk-item\"><div class=\"sk-serial\"><div class=\"sk-item\"><div class=\"sk-estimator sk-toggleable\"><input class=\"sk-toggleable__control sk-hidden--visually\" id=\"sk-estimator-id-7\" type=\"checkbox\" ><label for=\"sk-estimator-id-7\" class=\"sk-toggleable__label sk-toggleable__label-arrow\">OneHotEncoder</label><div class=\"sk-toggleable__content\"><pre>OneHotEncoder(handle_unknown=&#x27;ignore&#x27;)</pre></div></div></div></div></div></div></div></div></div></div><div class=\"sk-item sk-dashed-wrapped\"><div class=\"sk-label-container\"><div class=\"sk-label sk-toggleable\"><input class=\"sk-toggleable__control sk-hidden--visually\" id=\"sk-estimator-id-8\" type=\"checkbox\" ><label for=\"sk-estimator-id-8\" class=\"sk-toggleable__label sk-toggleable__label-arrow\">model: TransformedTargetRegressor</label><div class=\"sk-toggleable__content\"><pre>TransformedTargetRegressor(func=&lt;ufunc &#x27;log&#x27;&gt;, inverse_func=&lt;ufunc &#x27;exp&#x27;&gt;,\n",
       "                           regressor=Ridge())</pre></div></div></div><div class=\"sk-parallel\"><div class=\"sk-parallel-item\"><div class=\"sk-item\"><div class=\"sk-label-container\"><div class=\"sk-label sk-toggleable\"><input class=\"sk-toggleable__control sk-hidden--visually\" id=\"sk-estimator-id-9\" type=\"checkbox\" ><label for=\"sk-estimator-id-9\" class=\"sk-toggleable__label sk-toggleable__label-arrow\">regressor: Ridge</label><div class=\"sk-toggleable__content\"><pre>Ridge()</pre></div></div></div><div class=\"sk-serial\"><div class=\"sk-item\"><div class=\"sk-estimator sk-toggleable\"><input class=\"sk-toggleable__control sk-hidden--visually\" id=\"sk-estimator-id-10\" type=\"checkbox\" ><label for=\"sk-estimator-id-10\" class=\"sk-toggleable__label sk-toggleable__label-arrow\">Ridge</label><div class=\"sk-toggleable__content\"><pre>Ridge()</pre></div></div></div></div></div></div></div></div></div></div></div></div></div></div></div></div></div>"
      ],
      "text/plain": [
       "GridSearchCV(cv=KFold(n_splits=5, random_state=None, shuffle=False),\n",
       "             estimator=Pipeline(steps=[('preprocess',\n",
       "                                        ColumnTransformer(transformers=[('numer',\n",
       "                                                                         Pipeline(steps=[('scaler',\n",
       "                                                                                          MinMaxScaler())]),\n",
       "                                                                         array(['year', 'mileage', 'tax', 'mpg', 'engineSize'], dtype=object)),\n",
       "                                                                        ('caterog',\n",
       "                                                                         Pipeline(steps=[('ohe',\n",
       "                                                                                          OneHotEncoder(handle_unknown='ignore'))]),\n",
       "                                                                         array(['model', 'tr...\n",
       "       7.67679091e+00, 7.77780000e+00, 7.87880909e+00, 7.97981818e+00,\n",
       "       8.08082727e+00, 8.18183636e+00, 8.28284545e+00, 8.38385455e+00,\n",
       "       8.48486364e+00, 8.58587273e+00, 8.68688182e+00, 8.78789091e+00,\n",
       "       8.88890000e+00, 8.98990909e+00, 9.09091818e+00, 9.19192727e+00,\n",
       "       9.29293636e+00, 9.39394545e+00, 9.49495455e+00, 9.59596364e+00,\n",
       "       9.69697273e+00, 9.79798182e+00, 9.89899091e+00, 1.00000000e+01])},\n",
       "             scoring='neg_mean_absolute_error')"
      ]
     },
     "execution_count": 32,
     "metadata": {},
     "output_type": "execute_result"
    }
   ],
   "source": [
    "gsv_prem.fit(X_prem, y_prem)\n",
    "gsv_reg.fit(X_reg, y_reg)"
   ]
  },
  {
   "cell_type": "code",
   "execution_count": 33,
   "metadata": {},
   "outputs": [
    {
     "data": {
      "text/plain": [
       "(-2380.3828510354047, -1323.110879796556)"
      ]
     },
     "execution_count": 33,
     "metadata": {},
     "output_type": "execute_result"
    }
   ],
   "source": [
    "gsv_prem.best_score_, gsv_reg.best_score_"
   ]
  },
  {
   "cell_type": "code",
   "execution_count": 34,
   "metadata": {},
   "outputs": [
    {
     "data": {
      "text/plain": [
       "({'model__regressor__alpha': 0.10110909090909091},\n",
       " {'model__regressor__alpha': 0.5051454545454546})"
      ]
     },
     "execution_count": 34,
     "metadata": {},
     "output_type": "execute_result"
    }
   ],
   "source": [
    "gsv_prem.best_params_, gsv_reg.best_params_"
   ]
  },
  {
   "cell_type": "code",
   "execution_count": 35,
   "metadata": {},
   "outputs": [
    {
     "data": {
      "text/html": [
       "<style>#sk-container-id-2 {color: black;background-color: white;}#sk-container-id-2 pre{padding: 0;}#sk-container-id-2 div.sk-toggleable {background-color: white;}#sk-container-id-2 label.sk-toggleable__label {cursor: pointer;display: block;width: 100%;margin-bottom: 0;padding: 0.3em;box-sizing: border-box;text-align: center;}#sk-container-id-2 label.sk-toggleable__label-arrow:before {content: \"▸\";float: left;margin-right: 0.25em;color: #696969;}#sk-container-id-2 label.sk-toggleable__label-arrow:hover:before {color: black;}#sk-container-id-2 div.sk-estimator:hover label.sk-toggleable__label-arrow:before {color: black;}#sk-container-id-2 div.sk-toggleable__content {max-height: 0;max-width: 0;overflow: hidden;text-align: left;background-color: #f0f8ff;}#sk-container-id-2 div.sk-toggleable__content pre {margin: 0.2em;color: black;border-radius: 0.25em;background-color: #f0f8ff;}#sk-container-id-2 input.sk-toggleable__control:checked~div.sk-toggleable__content {max-height: 200px;max-width: 100%;overflow: auto;}#sk-container-id-2 input.sk-toggleable__control:checked~label.sk-toggleable__label-arrow:before {content: \"▾\";}#sk-container-id-2 div.sk-estimator input.sk-toggleable__control:checked~label.sk-toggleable__label {background-color: #d4ebff;}#sk-container-id-2 div.sk-label input.sk-toggleable__control:checked~label.sk-toggleable__label {background-color: #d4ebff;}#sk-container-id-2 input.sk-hidden--visually {border: 0;clip: rect(1px 1px 1px 1px);clip: rect(1px, 1px, 1px, 1px);height: 1px;margin: -1px;overflow: hidden;padding: 0;position: absolute;width: 1px;}#sk-container-id-2 div.sk-estimator {font-family: monospace;background-color: #f0f8ff;border: 1px dotted black;border-radius: 0.25em;box-sizing: border-box;margin-bottom: 0.5em;}#sk-container-id-2 div.sk-estimator:hover {background-color: #d4ebff;}#sk-container-id-2 div.sk-parallel-item::after {content: \"\";width: 100%;border-bottom: 1px solid gray;flex-grow: 1;}#sk-container-id-2 div.sk-label:hover label.sk-toggleable__label {background-color: #d4ebff;}#sk-container-id-2 div.sk-serial::before {content: \"\";position: absolute;border-left: 1px solid gray;box-sizing: border-box;top: 0;bottom: 0;left: 50%;z-index: 0;}#sk-container-id-2 div.sk-serial {display: flex;flex-direction: column;align-items: center;background-color: white;padding-right: 0.2em;padding-left: 0.2em;position: relative;}#sk-container-id-2 div.sk-item {position: relative;z-index: 1;}#sk-container-id-2 div.sk-parallel {display: flex;align-items: stretch;justify-content: center;background-color: white;position: relative;}#sk-container-id-2 div.sk-item::before, #sk-container-id-2 div.sk-parallel-item::before {content: \"\";position: absolute;border-left: 1px solid gray;box-sizing: border-box;top: 0;bottom: 0;left: 50%;z-index: -1;}#sk-container-id-2 div.sk-parallel-item {display: flex;flex-direction: column;z-index: 1;position: relative;background-color: white;}#sk-container-id-2 div.sk-parallel-item:first-child::after {align-self: flex-end;width: 50%;}#sk-container-id-2 div.sk-parallel-item:last-child::after {align-self: flex-start;width: 50%;}#sk-container-id-2 div.sk-parallel-item:only-child::after {width: 0;}#sk-container-id-2 div.sk-dashed-wrapped {border: 1px dashed gray;margin: 0 0.4em 0.5em 0.4em;box-sizing: border-box;padding-bottom: 0.4em;background-color: white;}#sk-container-id-2 div.sk-label label {font-family: monospace;font-weight: bold;display: inline-block;line-height: 1.2em;}#sk-container-id-2 div.sk-label-container {text-align: center;}#sk-container-id-2 div.sk-container {/* jupyter's `normalize.less` sets `[hidden] { display: none; }` but bootstrap.min.css set `[hidden] { display: none !important; }` so we also need the `!important` here to be able to override the default hidden behavior on the sphinx rendered scikit-learn.org. See: https://github.com/scikit-learn/scikit-learn/issues/21755 */display: inline-block !important;position: relative;}#sk-container-id-2 div.sk-text-repr-fallback {display: none;}</style><div id=\"sk-container-id-2\" class=\"sk-top-container\"><div class=\"sk-text-repr-fallback\"><pre>Pipeline(steps=[(&#x27;preprocess&#x27;,\n",
       "                 ColumnTransformer(transformers=[(&#x27;numer&#x27;,\n",
       "                                                  Pipeline(steps=[(&#x27;scaler&#x27;,\n",
       "                                                                   MinMaxScaler())]),\n",
       "                                                  array([&#x27;year&#x27;, &#x27;mileage&#x27;, &#x27;tax&#x27;, &#x27;mpg&#x27;, &#x27;engineSize&#x27;], dtype=object)),\n",
       "                                                 (&#x27;caterog&#x27;,\n",
       "                                                  Pipeline(steps=[(&#x27;ohe&#x27;,\n",
       "                                                                   OneHotEncoder(handle_unknown=&#x27;ignore&#x27;))]),\n",
       "                                                  array([&#x27;model&#x27;, &#x27;transmission&#x27;, &#x27;fuelType&#x27;, &#x27;car_maker&#x27;], dtype=object))])),\n",
       "                (&#x27;model&#x27;,\n",
       "                 TransformedTargetRegressor(func=&lt;ufunc &#x27;log&#x27;&gt;,\n",
       "                                            inverse_func=&lt;ufunc &#x27;exp&#x27;&gt;,\n",
       "                                            regressor=Ridge(alpha=0.5051454545454546)))])</pre><b>In a Jupyter environment, please rerun this cell to show the HTML representation or trust the notebook. <br />On GitHub, the HTML representation is unable to render, please try loading this page with nbviewer.org.</b></div><div class=\"sk-container\" hidden><div class=\"sk-item sk-dashed-wrapped\"><div class=\"sk-label-container\"><div class=\"sk-label sk-toggleable\"><input class=\"sk-toggleable__control sk-hidden--visually\" id=\"sk-estimator-id-11\" type=\"checkbox\" ><label for=\"sk-estimator-id-11\" class=\"sk-toggleable__label sk-toggleable__label-arrow\">Pipeline</label><div class=\"sk-toggleable__content\"><pre>Pipeline(steps=[(&#x27;preprocess&#x27;,\n",
       "                 ColumnTransformer(transformers=[(&#x27;numer&#x27;,\n",
       "                                                  Pipeline(steps=[(&#x27;scaler&#x27;,\n",
       "                                                                   MinMaxScaler())]),\n",
       "                                                  array([&#x27;year&#x27;, &#x27;mileage&#x27;, &#x27;tax&#x27;, &#x27;mpg&#x27;, &#x27;engineSize&#x27;], dtype=object)),\n",
       "                                                 (&#x27;caterog&#x27;,\n",
       "                                                  Pipeline(steps=[(&#x27;ohe&#x27;,\n",
       "                                                                   OneHotEncoder(handle_unknown=&#x27;ignore&#x27;))]),\n",
       "                                                  array([&#x27;model&#x27;, &#x27;transmission&#x27;, &#x27;fuelType&#x27;, &#x27;car_maker&#x27;], dtype=object))])),\n",
       "                (&#x27;model&#x27;,\n",
       "                 TransformedTargetRegressor(func=&lt;ufunc &#x27;log&#x27;&gt;,\n",
       "                                            inverse_func=&lt;ufunc &#x27;exp&#x27;&gt;,\n",
       "                                            regressor=Ridge(alpha=0.5051454545454546)))])</pre></div></div></div><div class=\"sk-serial\"><div class=\"sk-item sk-dashed-wrapped\"><div class=\"sk-label-container\"><div class=\"sk-label sk-toggleable\"><input class=\"sk-toggleable__control sk-hidden--visually\" id=\"sk-estimator-id-12\" type=\"checkbox\" ><label for=\"sk-estimator-id-12\" class=\"sk-toggleable__label sk-toggleable__label-arrow\">preprocess: ColumnTransformer</label><div class=\"sk-toggleable__content\"><pre>ColumnTransformer(transformers=[(&#x27;numer&#x27;,\n",
       "                                 Pipeline(steps=[(&#x27;scaler&#x27;, MinMaxScaler())]),\n",
       "                                 array([&#x27;year&#x27;, &#x27;mileage&#x27;, &#x27;tax&#x27;, &#x27;mpg&#x27;, &#x27;engineSize&#x27;], dtype=object)),\n",
       "                                (&#x27;caterog&#x27;,\n",
       "                                 Pipeline(steps=[(&#x27;ohe&#x27;,\n",
       "                                                  OneHotEncoder(handle_unknown=&#x27;ignore&#x27;))]),\n",
       "                                 array([&#x27;model&#x27;, &#x27;transmission&#x27;, &#x27;fuelType&#x27;, &#x27;car_maker&#x27;], dtype=object))])</pre></div></div></div><div class=\"sk-parallel\"><div class=\"sk-parallel-item\"><div class=\"sk-item\"><div class=\"sk-label-container\"><div class=\"sk-label sk-toggleable\"><input class=\"sk-toggleable__control sk-hidden--visually\" id=\"sk-estimator-id-13\" type=\"checkbox\" ><label for=\"sk-estimator-id-13\" class=\"sk-toggleable__label sk-toggleable__label-arrow\">numer</label><div class=\"sk-toggleable__content\"><pre>[&#x27;year&#x27; &#x27;mileage&#x27; &#x27;tax&#x27; &#x27;mpg&#x27; &#x27;engineSize&#x27;]</pre></div></div></div><div class=\"sk-serial\"><div class=\"sk-item\"><div class=\"sk-serial\"><div class=\"sk-item\"><div class=\"sk-estimator sk-toggleable\"><input class=\"sk-toggleable__control sk-hidden--visually\" id=\"sk-estimator-id-14\" type=\"checkbox\" ><label for=\"sk-estimator-id-14\" class=\"sk-toggleable__label sk-toggleable__label-arrow\">MinMaxScaler</label><div class=\"sk-toggleable__content\"><pre>MinMaxScaler()</pre></div></div></div></div></div></div></div></div><div class=\"sk-parallel-item\"><div class=\"sk-item\"><div class=\"sk-label-container\"><div class=\"sk-label sk-toggleable\"><input class=\"sk-toggleable__control sk-hidden--visually\" id=\"sk-estimator-id-15\" type=\"checkbox\" ><label for=\"sk-estimator-id-15\" class=\"sk-toggleable__label sk-toggleable__label-arrow\">caterog</label><div class=\"sk-toggleable__content\"><pre>[&#x27;model&#x27; &#x27;transmission&#x27; &#x27;fuelType&#x27; &#x27;car_maker&#x27;]</pre></div></div></div><div class=\"sk-serial\"><div class=\"sk-item\"><div class=\"sk-serial\"><div class=\"sk-item\"><div class=\"sk-estimator sk-toggleable\"><input class=\"sk-toggleable__control sk-hidden--visually\" id=\"sk-estimator-id-16\" type=\"checkbox\" ><label for=\"sk-estimator-id-16\" class=\"sk-toggleable__label sk-toggleable__label-arrow\">OneHotEncoder</label><div class=\"sk-toggleable__content\"><pre>OneHotEncoder(handle_unknown=&#x27;ignore&#x27;)</pre></div></div></div></div></div></div></div></div></div></div><div class=\"sk-item sk-dashed-wrapped\"><div class=\"sk-label-container\"><div class=\"sk-label sk-toggleable\"><input class=\"sk-toggleable__control sk-hidden--visually\" id=\"sk-estimator-id-17\" type=\"checkbox\" ><label for=\"sk-estimator-id-17\" class=\"sk-toggleable__label sk-toggleable__label-arrow\">model: TransformedTargetRegressor</label><div class=\"sk-toggleable__content\"><pre>TransformedTargetRegressor(func=&lt;ufunc &#x27;log&#x27;&gt;, inverse_func=&lt;ufunc &#x27;exp&#x27;&gt;,\n",
       "                           regressor=Ridge(alpha=0.5051454545454546))</pre></div></div></div><div class=\"sk-parallel\"><div class=\"sk-parallel-item\"><div class=\"sk-item\"><div class=\"sk-label-container\"><div class=\"sk-label sk-toggleable\"><input class=\"sk-toggleable__control sk-hidden--visually\" id=\"sk-estimator-id-18\" type=\"checkbox\" ><label for=\"sk-estimator-id-18\" class=\"sk-toggleable__label sk-toggleable__label-arrow\">regressor: Ridge</label><div class=\"sk-toggleable__content\"><pre>Ridge(alpha=0.5051454545454546)</pre></div></div></div><div class=\"sk-serial\"><div class=\"sk-item\"><div class=\"sk-estimator sk-toggleable\"><input class=\"sk-toggleable__control sk-hidden--visually\" id=\"sk-estimator-id-19\" type=\"checkbox\" ><label for=\"sk-estimator-id-19\" class=\"sk-toggleable__label sk-toggleable__label-arrow\">Ridge</label><div class=\"sk-toggleable__content\"><pre>Ridge(alpha=0.5051454545454546)</pre></div></div></div></div></div></div></div></div></div></div></div></div>"
      ],
      "text/plain": [
       "Pipeline(steps=[('preprocess',\n",
       "                 ColumnTransformer(transformers=[('numer',\n",
       "                                                  Pipeline(steps=[('scaler',\n",
       "                                                                   MinMaxScaler())]),\n",
       "                                                  array(['year', 'mileage', 'tax', 'mpg', 'engineSize'], dtype=object)),\n",
       "                                                 ('caterog',\n",
       "                                                  Pipeline(steps=[('ohe',\n",
       "                                                                   OneHotEncoder(handle_unknown='ignore'))]),\n",
       "                                                  array(['model', 'transmission', 'fuelType', 'car_maker'], dtype=object))])),\n",
       "                ('model',\n",
       "                 TransformedTargetRegressor(func=<ufunc 'log'>,\n",
       "                                            inverse_func=<ufunc 'exp'>,\n",
       "                                            regressor=Ridge(alpha=0.5051454545454546)))])"
      ]
     },
     "execution_count": 35,
     "metadata": {},
     "output_type": "execute_result"
    }
   ],
   "source": [
    "baseline_premium.set_params(**gsv_prem.best_params_)\n",
    "baseline_reg.set_params(**gsv_reg.best_params_)"
   ]
  },
  {
   "cell_type": "code",
   "execution_count": 36,
   "metadata": {},
   "outputs": [],
   "source": [
    "from sklearn.model_selection import cross_validate"
   ]
  },
  {
   "cell_type": "code",
   "execution_count": 37,
   "metadata": {},
   "outputs": [],
   "source": [
    "scr_pr = cross_validate(baseline_premium, X_prem, y_prem, cv=splitter, scoring='neg_mean_absolute_error', return_estimator=True, return_train_score=True)\n",
    "scr_reg = cross_validate(baseline_reg, X_reg, y_reg, cv=splitter, scoring='neg_mean_absolute_error', return_estimator=True, return_train_score=True)"
   ]
  },
  {
   "cell_type": "code",
   "execution_count": 38,
   "metadata": {},
   "outputs": [
    {
     "name": "stdout",
     "output_type": "stream",
     "text": [
      "fit_time [0.04843593 0.04673219 0.04962587 0.04718399 0.048769  ]\n",
      "score_time [0.00753093 0.00803375 0.00746822 0.00666595 0.007653  ]\n",
      "test_score [-2402.90698236 -2356.47147086 -2372.01130612 -2340.0906309\n",
      " -2430.43386494]\n",
      "train_score [-2364.48805204 -2376.259863   -2368.99401988 -2378.00372706\n",
      " -2353.65568932]\n"
     ]
    }
   ],
   "source": [
    "for i, step in enumerate(scr_pr):\n",
    "    if step != 'estimator':\n",
    "        print(step, scr_pr[step])"
   ]
  },
  {
   "cell_type": "code",
   "execution_count": 39,
   "metadata": {},
   "outputs": [
    {
     "name": "stdout",
     "output_type": "stream",
     "text": [
      "fit_time [0.06202793 0.05835605 0.05780077 0.05937719 0.05837393]\n",
      "score_time [0.00845814 0.00933886 0.00919819 0.00829601 0.00821114]\n",
      "test_score [-1336.98268666 -1333.53018399 -1295.8849818  -1343.08326517\n",
      " -1306.07328137]\n",
      "train_score [-1317.6379444  -1316.64176007 -1326.12819617 -1310.68790825\n",
      " -1320.75047986]\n"
     ]
    }
   ],
   "source": [
    "for i, step in enumerate(scr_reg):\n",
    "    if step != 'estimator':\n",
    "        print(step, scr_reg[step])"
   ]
  },
  {
   "cell_type": "code",
   "execution_count": 40,
   "metadata": {},
   "outputs": [],
   "source": [
    "model_prem = scr_pr['estimator'][3]\n",
    "model_reg = scr_reg['estimator'][2]"
   ]
  },
  {
   "cell_type": "code",
   "execution_count": 41,
   "metadata": {},
   "outputs": [],
   "source": [
    "import joblib"
   ]
  },
  {
   "cell_type": "code",
   "execution_count": 42,
   "metadata": {},
   "outputs": [
    {
     "data": {
      "text/plain": [
       "['../models_ml/reg_model.pkl']"
      ]
     },
     "execution_count": 42,
     "metadata": {},
     "output_type": "execute_result"
    }
   ],
   "source": [
    "joblib.dump(model_prem, '../models_ml/prem_model.pkl')\n",
    "joblib.dump(model_reg, '../models_ml/reg_model.pkl')"
   ]
  },
  {
   "cell_type": "code",
   "execution_count": 43,
   "metadata": {},
   "outputs": [],
   "source": [
    "model_a = joblib.load('../models_ml/prem_model.pkl')"
   ]
  },
  {
   "cell_type": "code",
   "execution_count": 79,
   "metadata": {},
   "outputs": [
    {
     "data": {
      "text/plain": [
       "sklearn.pipeline.Pipeline"
      ]
     },
     "execution_count": 79,
     "metadata": {},
     "output_type": "execute_result"
    }
   ],
   "source": [
    "type(model_a)"
   ]
  },
  {
   "cell_type": "code",
   "execution_count": 74,
   "metadata": {},
   "outputs": [],
   "source": [
    "to_predict['is_premium'] = to_predict['car_maker'].apply(lambda x: 1 if x in ('bmw', 'mercedes', 'audi') else 0)"
   ]
  },
  {
   "cell_type": "code",
   "execution_count": 81,
   "metadata": {},
   "outputs": [
    {
     "data": {
      "text/plain": [
       "Index(['model', 'year', 'transmission', 'mileage', 'fuelType', 'tax', 'mpg',\n",
       "       'engineSize', 'car_maker', 'id', 'is_premium'],\n",
       "      dtype='object')"
      ]
     },
     "execution_count": 81,
     "metadata": {},
     "output_type": "execute_result"
    }
   ],
   "source": [
    "to_predict.columns"
   ]
  },
  {
   "cell_type": "code",
   "execution_count": 75,
   "metadata": {},
   "outputs": [],
   "source": [
    "columns_test_predict = to_predict.drop(columns=['id', 'is_premium']).columns.values"
   ]
  },
  {
   "cell_type": "code",
   "execution_count": 754,
   "metadata": {},
   "outputs": [],
   "source": [
    "def make_pred(model_1, model_2, series):\n",
    "    if series['is_premium']:\n",
    "        return model_1.predict(series[columns_test_predict].to_frame().T)[0]\n",
    "    else:\n",
    "        return model_2.predict(series[columns_test_predict].to_frame().T)[0]"
   ]
  },
  {
   "cell_type": "code",
   "execution_count": 755,
   "metadata": {},
   "outputs": [],
   "source": [
    "result = pd.DataFrame(data=pd.concat([to_predict['id'], to_predict.apply(lambda x: make_pred(model_prem, model_reg, x), axis=1)], axis=1))"
   ]
  },
  {
   "cell_type": "code",
   "execution_count": 700,
   "metadata": {},
   "outputs": [],
   "source": [
    "result.set_index('id', inplace=True)"
   ]
  },
  {
   "cell_type": "code",
   "execution_count": 87,
   "metadata": {},
   "outputs": [
    {
     "data": {
      "text/html": [
       "<div>\n",
       "<style scoped>\n",
       "    .dataframe tbody tr th:only-of-type {\n",
       "        vertical-align: middle;\n",
       "    }\n",
       "\n",
       "    .dataframe tbody tr th {\n",
       "        vertical-align: top;\n",
       "    }\n",
       "\n",
       "    .dataframe thead th {\n",
       "        text-align: right;\n",
       "    }\n",
       "</style>\n",
       "<table border=\"1\" class=\"dataframe\">\n",
       "  <thead>\n",
       "    <tr style=\"text-align: right;\">\n",
       "      <th></th>\n",
       "      <th>model</th>\n",
       "      <th>year</th>\n",
       "      <th>transmission</th>\n",
       "      <th>mileage</th>\n",
       "      <th>fuelType</th>\n",
       "      <th>tax</th>\n",
       "      <th>mpg</th>\n",
       "      <th>engineSize</th>\n",
       "      <th>car_maker</th>\n",
       "    </tr>\n",
       "  </thead>\n",
       "  <tbody>\n",
       "    <tr>\n",
       "      <th>0</th>\n",
       "      <td>Q7</td>\n",
       "      <td>2019</td>\n",
       "      <td>Auto</td>\n",
       "      <td>3000.0</td>\n",
       "      <td>Petrol</td>\n",
       "      <td>20.0</td>\n",
       "      <td>87.0</td>\n",
       "      <td>4.0</td>\n",
       "      <td>Audi</td>\n",
       "    </tr>\n",
       "  </tbody>\n",
       "</table>\n",
       "</div>"
      ],
      "text/plain": [
       "  model  year transmission  mileage fuelType   tax   mpg  engineSize car_maker\n",
       "0    Q7  2019         Auto   3000.0   Petrol  20.0  87.0         4.0      Audi"
      ]
     },
     "execution_count": 87,
     "metadata": {},
     "output_type": "execute_result"
    }
   ],
   "source": []
  }
 ],
 "metadata": {
  "interpreter": {
   "hash": "b2fa021581e3047ecff5550178219e8d954a5ff268fa46e745a7e1f752893bda"
  },
  "kernelspec": {
   "display_name": "Python 3.10.4 (conda)",
   "language": "python",
   "name": "python3"
  },
  "language_info": {
   "codemirror_mode": {
    "name": "ipython",
    "version": 3
   },
   "file_extension": ".py",
   "mimetype": "text/x-python",
   "name": "python",
   "nbconvert_exporter": "python",
   "pygments_lexer": "ipython3",
   "version": "3.10.4"
  },
  "orig_nbformat": 4
 },
 "nbformat": 4,
 "nbformat_minor": 2
}
